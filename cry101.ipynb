{
 "cells": [
  {
   "cell_type": "markdown",
   "id": "1163fdf9",
   "metadata": {},
   "source": [
    "# Let's try some code\n",
    "1. "
   ]
  },
  {
   "cell_type": "markdown",
   "id": "bd5346e8",
   "metadata": {},
   "source": [
    "Install stuff here\n",
    "- panda\n",
    "- sqlalchemy\n",
    "- request"
   ]
  },
  {
   "cell_type": "code",
   "execution_count": null,
   "id": "fb732c76",
   "metadata": {},
   "outputs": [],
   "source": [
    "#!pip install python-binance\n"
   ]
  },
  {
   "cell_type": "code",
   "execution_count": 24,
   "id": "a12b9e3f",
   "metadata": {},
   "outputs": [],
   "source": [
    "import pandas as pd\n",
    "import sqlalchemy\n",
    "from binance.client import Client\n",
    "from binance import Client, ThreadedWebsocketManager, ThreadedDepthCacheManager\n",
    "\n",
    "#install Binance key\n",
    "from addons import binance_keys"
   ]
  },
  {
   "cell_type": "code",
   "execution_count": null,
   "id": "ea5c223e",
   "metadata": {},
   "outputs": [],
   "source": []
  },
  {
   "cell_type": "code",
   "execution_count": 25,
   "id": "fff3350a",
   "metadata": {},
   "outputs": [],
   "source": [
    "client = Client(api_key, api_secret)\n"
   ]
  },
  {
   "cell_type": "code",
   "execution_count": null,
   "id": "21d281c2",
   "metadata": {},
   "outputs": [],
   "source": [
    "bsm = BinanceSocketManager(client)"
   ]
  },
  {
   "cell_type": "code",
   "execution_count": null,
   "id": "c181bb8e",
   "metadata": {},
   "outputs": [],
   "source": [
    "socket = bsm.trade_socket('BTCUSDT')"
   ]
  },
  {
   "cell_type": "code",
   "execution_count": null,
   "id": "6de6a5f5",
   "metadata": {},
   "outputs": [],
   "source": [
    "await socket.__aenter__()\n",
    "msg = await socket.recv()\n",
    "print(msg)"
   ]
  },
  {
   "cell_type": "code",
   "execution_count": null,
   "id": "68134774",
   "metadata": {},
   "outputs": [],
   "source": []
  }
 ],
 "metadata": {
  "kernelspec": {
   "display_name": "Python 3 (ipykernel)",
   "language": "python",
   "name": "python3"
  },
  "language_info": {
   "codemirror_mode": {
    "name": "ipython",
    "version": 3
   },
   "file_extension": ".py",
   "mimetype": "text/x-python",
   "name": "python",
   "nbconvert_exporter": "python",
   "pygments_lexer": "ipython3",
   "version": "3.8.12"
  }
 },
 "nbformat": 4,
 "nbformat_minor": 5
}
