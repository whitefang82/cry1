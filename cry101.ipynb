{
 "cells": [
  {
   "cell_type": "markdown",
   "id": "1163fdf9",
   "metadata": {},
   "source": [
    "# Let's try some code\n",
    "1. "
   ]
  },
  {
   "cell_type": "markdown",
   "id": "d5a29d6b",
   "metadata": {},
   "source": [
    "Install stuff here\n",
    "- panda\n",
    "- sqlalchemy\n",
    "- request"
   ]
  },
  {
   "cell_type": "code",
   "execution_count": null,
   "id": "fb732c76",
   "metadata": {},
   "outputs": [],
   "source": [
    "#!pip install python-binance\n"
   ]
  },
  {
   "cell_type": "code",
   "execution_count": 20,
   "id": "aa4af145",
   "metadata": {},
   "outputs": [],
   "source": [
    "import pandas as pd\n",
    "import sqlalchemy\n",
    "from binance.client import Client\n",
    "from binance import Client, ThreadedWebsocketManager, ThreadedDepthCacheManager"
   ]
  },
  {
   "cell_type": "code",
   "execution_count": 21,
   "id": "ef8fec11",
   "metadata": {},
   "outputs": [
    {
     "ename": "NameError",
     "evalue": "name 'api_key' is not defined",
     "output_type": "error",
     "traceback": [
      "\u001b[1;31m---------------------------------------------------------------------------\u001b[0m",
      "\u001b[1;31mNameError\u001b[0m                                 Traceback (most recent call last)",
      "\u001b[1;32m~\\AppData\\Local\\Temp/ipykernel_23804/3053253584.py\u001b[0m in \u001b[0;36m<module>\u001b[1;34m\u001b[0m\n\u001b[1;32m----> 1\u001b[1;33m \u001b[0mclient\u001b[0m \u001b[1;33m=\u001b[0m \u001b[0mClient\u001b[0m\u001b[1;33m(\u001b[0m\u001b[0mapi_key\u001b[0m\u001b[1;33m,\u001b[0m \u001b[0mapi_secret\u001b[0m\u001b[1;33m)\u001b[0m\u001b[1;33m\u001b[0m\u001b[1;33m\u001b[0m\u001b[0m\n\u001b[0m",
      "\u001b[1;31mNameError\u001b[0m: name 'api_key' is not defined"
     ]
    }
   ],
   "source": [
    "client = Client(api_key, api_secret)\n"
   ]
  },
  {
   "cell_type": "code",
   "execution_count": null,
   "id": "71eb058d",
   "metadata": {},
   "outputs": [],
   "source": [
    "bsm = BinanceSocketManager(client)"
   ]
  },
  {
   "cell_type": "code",
   "execution_count": null,
   "id": "5bbc73bb",
   "metadata": {},
   "outputs": [],
   "source": [
    "socket = bsm.trade_socket('BTCUSDT')"
   ]
  },
  {
   "cell_type": "code",
   "execution_count": null,
   "id": "1dd05ee0",
   "metadata": {},
   "outputs": [],
   "source": [
    "await socket.__aenter__()\n",
    "msg = await socket.recv()\n",
    "print(msg)"
   ]
  },
  {
   "cell_type": "code",
   "execution_count": null,
   "id": "3bf98938",
   "metadata": {},
   "outputs": [],
   "source": []
  }
 ],
 "metadata": {
  "kernelspec": {
   "display_name": "Python 3 (ipykernel)",
   "language": "python",
   "name": "python3"
  },
  "language_info": {
   "codemirror_mode": {
    "name": "ipython",
    "version": 3
   },
   "file_extension": ".py",
   "mimetype": "text/x-python",
   "name": "python",
   "nbconvert_exporter": "python",
   "pygments_lexer": "ipython3",
   "version": "3.8.12"
  }
 },
 "nbformat": 4,
 "nbformat_minor": 5
}
